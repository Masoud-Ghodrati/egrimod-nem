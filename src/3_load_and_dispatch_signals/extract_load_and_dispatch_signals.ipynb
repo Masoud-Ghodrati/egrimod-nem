{
 "cells": [
  {
   "cell_type": "markdown",
   "metadata": {},
   "source": [
    "# Extract Load and Dispatch Signals\n",
    "Data from AEMO's MMSDM database are used to construct historic load and dispatch signals. To illustrate how these signals can be constructed we extract data for one month as a sample. As the schema is the same for all MMSDM files, signals from different periods can be constructed by changing the csv file imported. Also, signals with longer time horizons can be constructed by chaining together data from multiple months.\n",
    "\n",
    "## Procedure\n",
    "1. Import packages and declare paths to directories\n",
    "2. Import datasets\n",
    "3. Pivot dataframes extracting data from desired columns\n",
    "4. Save data to file\n",
    "\n",
    "## Import packages"
   ]
  },
  {
   "cell_type": "code",
   "execution_count": 1,
   "metadata": {},
   "outputs": [],
   "source": [
    "import os\n",
    "import pandas as pd"
   ]
  },
  {
   "cell_type": "markdown",
   "metadata": {},
   "source": [
    "## Paths to directories"
   ]
  },
  {
   "cell_type": "code",
   "execution_count": 2,
   "metadata": {},
   "outputs": [],
   "source": [
    "# Core data directory (common files)\n",
    "data_dir = os.path.abspath(os.path.join(os.path.curdir, os.path.pardir, os.path.pardir, 'data'))\n",
    "\n",
    "# MMSDM data directory\n",
    "mmsdm_dir = os.path.join(data_dir, 'AEMO', 'MMSDM')\n",
    "\n",
    "# Output directory\n",
    "output_dir = os.path.abspath(os.path.join(os.path.curdir, 'output'))"
   ]
  },
  {
   "cell_type": "markdown",
   "metadata": {},
   "source": [
    "## Datasets\n",
    "### MMSDM\n",
    "A summary of the tables used from AEMO's MMSDM database [1] is given below:\n",
    "\n",
    "| Table | Description |\n",
    "| :----- | :----- |\n",
    "|DISPATCH_UNIT_SCADA | MW dispatch at 5 minute (dispatch) intervals for DUIDs within the NEM.|\n",
    "|TRADINGREGIONSUM | Contains load in each NEM region at 30 minute (trading) intervals.|\n",
    "\n",
    "#### Unit Dispatch\n",
    "Parse and save unit dispatch data. Note that dispatch in MW is given at 5min intervals, and that the time resolution of demand data is 30min intervals, corresponding to the length of a trading period in the NEM. To align the time resolution of these signals unit dispatch data are aggregated, with mean power output over 30min intervals computed for each DUID."
   ]
  },
  {
   "cell_type": "code",
   "execution_count": 3,
   "metadata": {},
   "outputs": [],
   "source": [
    "# Unit dispatch data\n",
    "df_DISPATCH_UNIT_SCADA = pd.read_csv(os.path.join(mmsdm_dir, 'PUBLIC_DVD_DISPATCH_UNIT_SCADA_201706010000.CSV'),\n",
    "                                     skiprows=1, skipfooter=1, engine='python')\n",
    "\n",
    "# Convert to datetime objects\n",
    "df_DISPATCH_UNIT_SCADA['SETTLEMENTDATE'] = pd.to_datetime(df_DISPATCH_UNIT_SCADA['SETTLEMENTDATE'])\n",
    "\n",
    "# Pivot dataframe. Dates are the index values, columns are DUIDs, values are DUID dispatch levels\n",
    "df_DISPATCH_UNIT_SCADA_piv = df_DISPATCH_UNIT_SCADA.pivot(index='SETTLEMENTDATE', columns='DUID', values='SCADAVALUE')\n",
    "\n",
    "# To ensure the 30th minute interval is included during each trading interval the time index is offset\n",
    "# by 1min. Once the groupby operation is performed this offset is removed.\n",
    "df_DISPATCH_UNIT_SCADA_agg = df_DISPATCH_UNIT_SCADA_piv.groupby(pd.Grouper(freq='30Min', base=1, label='right')).mean()\n",
    "df_DISPATCH_UNIT_SCADA_agg = df_DISPATCH_UNIT_SCADA_agg.set_index(df_DISPATCH_UNIT_SCADA_agg.index - pd.Timedelta(minutes=1))\n",
    "\n",
    "df_DISPATCH_UNIT_SCADA_agg.to_csv(os.path.join(output_dir, 'signals_dispatch.csv'))"
   ]
  },
  {
   "cell_type": "markdown",
   "metadata": {},
   "source": [
    "#### Regional Load\n",
    "Load in each NEM region is given at 30min intervals."
   ]
  },
  {
   "cell_type": "code",
   "execution_count": 4,
   "metadata": {},
   "outputs": [],
   "source": [
    "# Regional summary for each trading interval\n",
    "df_TRADINGREGIONSUM = pd.read_csv(os.path.join(data_dir, 'AEMO', 'MMSDM', 'PUBLIC_DVD_TRADINGREGIONSUM_201706010000.CSV'),\n",
    "                                  skiprows=1, skipfooter=1, engine='python')\n",
    "\n",
    "# Convert settlement date to datetime\n",
    "df_TRADINGREGIONSUM['SETTLEMENTDATE'] = pd.to_datetime(df_TRADINGREGIONSUM['SETTLEMENTDATE'])\n",
    "\n",
    "# Pivot dataframe. Index is timestamp, columns are NEM region IDs, values are total demand\n",
    "df_TRADINGREGIONSUM_piv = df_TRADINGREGIONSUM.pivot(index='SETTLEMENTDATE', columns='REGIONID', values='TOTALDEMAND')\n",
    "\n",
    "df_TRADINGREGIONSUM_piv.to_csv(os.path.join(output_dir, 'signals_regional_load.csv'))"
   ]
  },
  {
   "cell_type": "markdown",
   "metadata": {},
   "source": [
    "## References\n",
    "[1] - Australian Energy Markets Operator. Data Archive (2018). at http://www.nemweb.com.au/#mms-data-model"
   ]
  }
 ],
 "metadata": {
  "kernelspec": {
   "display_name": "Python (nem-env)",
   "language": "python",
   "name": "nem-env"
  },
  "language_info": {
   "codemirror_mode": {
    "name": "ipython",
    "version": 3
   },
   "file_extension": ".py",
   "mimetype": "text/x-python",
   "name": "python",
   "nbconvert_exporter": "python",
   "pygments_lexer": "ipython3",
   "version": "3.6.2"
  }
 },
 "nbformat": 4,
 "nbformat_minor": 2
}
