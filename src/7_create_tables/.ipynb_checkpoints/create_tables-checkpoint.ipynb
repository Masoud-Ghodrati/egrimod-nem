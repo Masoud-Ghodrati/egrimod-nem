{
 "cells": [
  {
   "cell_type": "markdown",
   "metadata": {},
   "source": [
    "# Create tables summarising contents of each dataset"
   ]
  },
  {
   "cell_type": "code",
   "execution_count": 1,
   "metadata": {},
   "outputs": [],
   "source": [
    "import os\n",
    "from decimal import Decimal\n",
    "\n",
    "import numpy as np\n",
    "import pandas as pd\n",
    "\n",
    "pd.set_option('display.max_colwidth', -1)"
   ]
  },
  {
   "cell_type": "markdown",
   "metadata": {},
   "source": [
    "## Paths to directories"
   ]
  },
  {
   "cell_type": "code",
   "execution_count": 2,
   "metadata": {},
   "outputs": [],
   "source": [
    "# Network dataset construction directory\n",
    "network_dir = os.path.join(os.path.curdir, os.path.pardir, '1_network')\n",
    "\n",
    "# Generator dataset construction directory\n",
    "generators_dir = os.path.join(os.path.curdir, os.path.pardir, '2_generators')\n",
    "\n",
    "# Signals dataset construction directory\n",
    "signals_dir = os.path.join(os.path.curdir, os.path.pardir, '3_load_and_dispatch_signals')\n",
    "\n",
    "# Output directory\n",
    "output_dir = os.path.join(os.path.curdir, 'output')"
   ]
  },
  {
   "cell_type": "markdown",
   "metadata": {},
   "source": [
    "## Functions used to parse data"
   ]
  },
  {
   "cell_type": "code",
   "execution_count": 3,
   "metadata": {},
   "outputs": [],
   "source": [
    "def get_numerical_range(df, column_name, no_round=False, round_lower=False, round_upper=False, sci_notation_lower=False, sci_notation_upper=False):\n",
    "    \"Round output\"\n",
    "    \n",
    "    lower = df[column_name].min()\n",
    "    upper = df[column_name].max()\n",
    "    \n",
    "    if no_round:\n",
    "        return '${0}-{1}$'.format(lower, upper)\n",
    "    \n",
    "    else:\n",
    "        if round_lower:\n",
    "            lower_out = np.around(lower, decimals=round_lower)\n",
    "\n",
    "        if round_upper:\n",
    "            upper_out = np.around(upper, decimals=round_upper)\n",
    "\n",
    "        if sci_notation_lower:\n",
    "            lo = df[column_name].min()\n",
    "\n",
    "            lo_exp = '{:.2e}'.format(lo) # Exponential notation\n",
    "\n",
    "            # Make latex friendly\n",
    "            lo_exp = lo_exp.replace('-0','-') \n",
    "            lower_out = lo_exp.replace('e', ' \\times 10^{') + '}' \n",
    "\n",
    "        if sci_notation_upper:\n",
    "            up = df[column_name].max()\n",
    "\n",
    "            up_exp = '{:.2e}'.format(up) # Exponential notation\n",
    "\n",
    "            # Make latex friendly\n",
    "            up_exp = up_exp.replace('-0','-') \n",
    "            upper_out = up_exp.replace('e', ' \\times 10^{') + '}'       \n",
    "\n",
    "        return '${0}-{1}$'.format(lower_out, upper_out)\n",
    "    \n",
    "       \n",
    "def add_caption(table, caption, label):\n",
    "    \"Add caption to table\"\n",
    "    return table.replace('\\\\end{tabular}\\n', '\\\\end{tabular}\\n\\\\caption{%s}\\n\\\\label{%s}\\n' % (caption, label))\n",
    "\n",
    "def wrap_in_table(table):\n",
    "    \"Wrap tabular in table environment\"\n",
    "    table = table.replace('\\\\begin{tabular}', '\\\\begin{table}[H]\\n\\\\begin{tabular}')\n",
    "    table = table + '\\\\end{table}'\n",
    "    return table\n",
    "\n",
    "\n",
    "def format_table(df_out, caption, label, filename, add_caption_and_label=False):\n",
    "    \"Format table to add caption and labels\"\n",
    "\n",
    "    # Reset index and rename column\n",
    "    df_out = df_out.reset_index().rename(columns={'index': 'Col. Name'})\n",
    "\n",
    "    # Format col names so underscores don't cause errors\n",
    "    df_out['Col. Name'] = df_out['Col. Name'].map(lambda x: x.replace('_', '\\_'))\n",
    "    df_out.index = range(1, len(df_out.index) + 1)\n",
    "    df_out.index.name = 'Col.'\n",
    "    df_out = df_out.reset_index()\n",
    "\n",
    "    # Raw table\n",
    "    table = df_out.to_latex(escape=False,  index=False, multicolumn=False)\n",
    "\n",
    "    # Add caption and labels and wrap in table environment\n",
    "    if add_caption_and_label:\n",
    "        table_out = add_caption(table, caption=caption, label=label)\n",
    "        table_out = wrap_in_table(table_out)\n",
    "    else:\n",
    "        table_out = table\n",
    "\n",
    "    # Save to file\n",
    "    with open(os.path.join(output_dir, filename), 'w') as f:\n",
    "        f.write(table_out)\n",
    "\n",
    "    return table_out"
   ]
  },
  {
   "cell_type": "markdown",
   "metadata": {},
   "source": [
    "## Network\n",
    "### Nodes"
   ]
  },
  {
   "cell_type": "code",
   "execution_count": 4,
   "metadata": {},
   "outputs": [
    {
     "data": {
      "text/plain": [
       "'\\\\begin{table}[H]\\n\\\\begin{tabular}{rlllll}\\n\\\\toprule\\n Col. &     Col. Name & Format &        Units &          Range &                                         Description \\\\\\\\\\n\\\\midrule\\n 1 &  NODE\\\\_ID &  str &  - &  $1-960$ &  Node ID \\\\\\\\\\n 2 &  STATE\\\\_NAME &  str &  - &  - &  State in which node is located \\\\\\\\\\n 3 &  NEM\\\\_REGION &  str &  - &  - &  NEM region in which node is located \\\\\\\\\\n 4 &  NEM\\\\_ZONE &  str &  - &  - &  NEM zone in which node is located \\\\\\\\\\n 5 &  VOLTAGE\\\\_KV &  int &  kV &  $110-500$ &  Node voltage \\\\\\\\\\n 6 &  RRN &  int &  - &  $0-1$ &  If 1 node is a RRN, if 0 node is not a RNN \\\\\\\\\\n 7 &  PROP\\\\_REG\\\\_D &  float &  - &  $0.0-0.123$ &  Proportion of NEM regional demand consumed at node \\\\\\\\\\n 8 &  LATITUDE &  float &  N$^{\\\\circ}$ &  $-43.2--15.9$ &  Latitude (GDA94) \\\\\\\\\\n 9 &  LONGITUDE &  float &  E$^{\\\\circ}$ &  $135.5-153.5$ &  Longitude (GDA94) \\\\\\\\\\n\\\\bottomrule\\n\\\\end{tabular}\\n\\\\caption{Network nodes dataset summary}\\n\\\\label{tab: nodes}\\n\\\\end{table}'"
      ]
     },
     "execution_count": 4,
     "metadata": {},
     "output_type": "execute_result"
    }
   ],
   "source": [
    "def create_network_nodes_table():\n",
    "    \"Create summary of network node datasets\"\n",
    "    \n",
    "    # Input DataFrame\n",
    "    df = pd.read_csv(os.path.join(network_dir, 'output', 'network_nodes.csv'))\n",
    "\n",
    "    # Initialise output DataFrame\n",
    "    df_out = pd.DataFrame(index=df.columns, columns=['Format', 'Units', 'Range', 'Description'])\n",
    "\n",
    "    df_out.loc['NODE_ID'] = {'Format': 'str', 'Units': '-', 'Range': get_numerical_range(df, 'NODE_ID', no_round=True), 'Description': 'Node ID'}\n",
    "    df_out.loc['STATE_NAME'] = {'Format': 'str', 'Units': '-', 'Range': '-', 'Description': 'State in which node is located'}\n",
    "    df_out.loc['NEM_REGION'] = {'Format': 'str', 'Units': '-', 'Range': '-', 'Description': 'NEM region in which node is located'}\n",
    "    df_out.loc['NEM_ZONE'] = {'Format': 'str', 'Units': '-', 'Range': '-', 'Description': 'NEM zone in which node is located'}\n",
    "    df_out.loc['VOLTAGE_KV'] = {'Format': 'int', 'Units': 'kV', 'Range': get_numerical_range(df, 'VOLTAGE_KV', no_round=True), 'Description': 'Node voltage'}\n",
    "    df_out.loc['RRN'] = {'Format': 'int', 'Units': '-', 'Range': get_numerical_range(df, 'RRN', no_round=True), 'Description': 'If 1 node is a RRN, if 0 node is not a RNN'}\n",
    "    df_out.loc['PROP_REG_D'] = {'Format': 'float', 'Units': '-', 'Range': get_numerical_range(df, 'PROP_REG_D', round_lower=3, round_upper=3), 'Description': 'Proportion of NEM regional demand consumed at node'}\n",
    "    df_out.loc['LATITUDE'] = {'Format': 'float', 'Units': 'N$^{\\circ}$', 'Range': get_numerical_range(df, 'LATITUDE', round_lower=1, round_upper=1), 'Description': 'Latitude (GDA94)'}\n",
    "    df_out.loc['LONGITUDE'] = {'Format': 'float', 'Units': 'E$^{\\circ}$', 'Range': get_numerical_range(df, 'LONGITUDE', round_lower=1, round_upper=1), 'Description': 'Longitude (GDA94)'}\n",
    "    \n",
    "    # Output table after formatting\n",
    "    table_out = format_table(df_out, caption='Network nodes dataset summary', label='tab: nodes', filename='network_nodes.tex', add_caption_and_label=True)\n",
    "    \n",
    "    return table_out\n",
    "\n",
    "create_network_nodes_table()"
   ]
  },
  {
   "cell_type": "markdown",
   "metadata": {},
   "source": [
    "### AC edges"
   ]
  },
  {
   "cell_type": "code",
   "execution_count": 5,
   "metadata": {},
   "outputs": [
    {
     "data": {
      "text/plain": [
       "'\\\\begin{table}[H]\\n\\\\begin{tabular}{rlllll}\\n\\\\toprule\\n Col. &    Col. Name & Format & Units &                        Range &                   Description \\\\\\\\\\n\\\\midrule\\n 1 &  LINE\\\\_ID &  str &  - &  - &  Network edge ID \\\\\\\\\\n 2 &  NAME &  str &  - &  - &  Name of network edge \\\\\\\\\\n 3 &  FROM\\\\_NODE &  int &  - &  $1-960$ &  Node ID for origin node \\\\\\\\\\n 4 &  TO\\\\_NODE &  int &  - &  $1-960$ &  Node ID for destination node \\\\\\\\\\n 5 &  R\\\\_PU &  float &  p.u. &  $6.09 \\\\times 10^{-6}-0.407$ &  Per-unit resistance \\\\\\\\\\n 6 &  X\\\\_PU &  float &  p.u. &  $1.52 \\\\times 10^{-5}-0.829$ &  Per-unit reactance \\\\\\\\\\n 7 &  B\\\\_PU &  float &  p.u. &  $1.07 \\\\times 10^{-5}-1.249$ &  Per-unit susceptance \\\\\\\\\\n 8 &  NUM\\\\_LINES &  int &  - &  $1-4$ &  Number of parallel lines \\\\\\\\\\n 9 &  LENGTH\\\\_KM &  float &  km &  $0.03-315.7$ &  Line length \\\\\\\\\\n 10 &  VOLTAGE\\\\_KV &  float &  kV &  $110-500$ &  Line voltage \\\\\\\\\\n\\\\bottomrule\\n\\\\end{tabular}\\n\\\\caption{Network edges dataset summary}\\n\\\\label{tab: edges}\\n\\\\end{table}'"
      ]
     },
     "execution_count": 5,
     "metadata": {},
     "output_type": "execute_result"
    }
   ],
   "source": [
    "def create_network_edges_table():\n",
    "    \"Create table summarising AC network edges dataset\"\n",
    "    \n",
    "    # Input DataFrame\n",
    "    df = pd.read_csv(os.path.join(network_dir, 'output', 'network_edges.csv'))\n",
    "\n",
    "    # Initialise output DataFrame\n",
    "    df_out = pd.DataFrame(index=df.columns, columns=['Format', 'Units', 'Range', 'Description'])\n",
    "\n",
    "    df_out.loc['LINE_ID'] = {'Format': 'str', 'Units': '-', 'Range': '-', 'Description': 'Network edge ID'}\n",
    "    df_out.loc['NAME'] = {'Format': 'str', 'Units': '-', 'Range': '-', 'Description': 'Name of network edge'}\n",
    "    df_out.loc['FROM_NODE'] = {'Format': 'int', 'Units': '-', 'Range': get_numerical_range(df, 'FROM_NODE', no_round=True), 'Description': 'Node ID for origin node'}\n",
    "    df_out.loc['TO_NODE'] = {'Format': 'int', 'Units': '-', 'Range': get_numerical_range(df, 'TO_NODE', no_round=True), 'Description': 'Node ID for destination node'}\n",
    "    df_out.loc['R_PU'] = {'Format': 'float', 'Units': 'p.u.', 'Range': get_numerical_range(df, 'R_PU', sci_notation_lower=True, round_upper=3), 'Description': 'Per-unit resistance'}\n",
    "    df_out.loc['X_PU'] = {'Format': 'float', 'Units': 'p.u.', 'Range': get_numerical_range(df, 'X_PU', sci_notation_lower=True, round_upper=3), 'Description': 'Per-unit reactance'}\n",
    "    df_out.loc['B_PU'] = {'Format': 'float', 'Units': 'p.u.', 'Range': get_numerical_range(df, 'B_PU', sci_notation_lower=True, round_upper=3), 'Description': 'Per-unit susceptance'}\n",
    "    df_out.loc['NUM_LINES'] = {'Format': 'int', 'Units': '-', 'Range': get_numerical_range(df, 'NUM_LINES', no_round=True), 'Description': 'Number of parallel lines'}\n",
    "    df_out.loc['LENGTH_KM'] = {'Format': 'float', 'Units': 'km', 'Range': get_numerical_range(df, 'LENGTH_KM', round_lower=2, round_upper=1), 'Description': 'Line length'}\n",
    "    df_out.loc['VOLTAGE_KV'] = {'Format': 'float', 'Units': 'kV', 'Range': get_numerical_range(df, 'VOLTAGE_KV', no_round=True), 'Description': 'Line voltage'}\n",
    "\n",
    "     # Output table after formatting\n",
    "    table_out = format_table(df_out, caption='Network edges dataset summary', label='tab: edges', filename='network_edges.tex', add_caption_and_label=True)\n",
    "    \n",
    "    return table_out\n",
    "create_network_edges_table()"
   ]
  },
  {
   "cell_type": "markdown",
   "metadata": {},
   "source": [
    "### HVDC links"
   ]
  },
  {
   "cell_type": "code",
   "execution_count": 6,
   "metadata": {},
   "outputs": [
    {
     "data": {
      "text/plain": [
       "\"\\\\begin{table}[H]\\n\\\\begin{tabular}{rlllll}\\n\\\\toprule\\n Col. &           Col. Name & Format & Units &      Range &                                Description \\\\\\\\\\n\\\\midrule\\n 1 &  HVDC\\\\_LINK\\\\_ID &  str &  - &  - &  HVDC link ID \\\\\\\\\\n 2 &  FROM\\\\_NODE &  int &  - &  $605-806$ &  Node ID of origin node \\\\\\\\\\n 3 &  TO\\\\_NODE &  int &  - &  $88-298$ &  Node ID of destination node \\\\\\\\\\n 4 &  FORWARD\\\\_LIMIT\\\\_MW &  float &  MW &  $180-594$ &  `From' node to `To' node power-flow limit \\\\\\\\\\n 5 &  REVERSE\\\\_LIMIT\\\\_MW &  float &  MW &  $180-478$ &  `To' node to `From' node power-flow limit \\\\\\\\\\n 6 &  VOLTAGE\\\\_KV &  float &  kV &  $132-400$ &  HVDC link voltage \\\\\\\\\\n\\\\bottomrule\\n\\\\end{tabular}\\n\\\\caption{Network HVDC links dataset summary}\\n\\\\label{tab: hvdc links}\\n\\\\end{table}\""
      ]
     },
     "execution_count": 6,
     "metadata": {},
     "output_type": "execute_result"
    }
   ],
   "source": [
    "def create_hvdc_links_table():\n",
    "    \"Create summary of HVDC links dataset\"\n",
    "\n",
    "    df = pd.read_csv(os.path.join(network_dir, 'output', 'network_hvdc_links.csv'))\n",
    "\n",
    "    # Initialise output DataFrame\n",
    "    df_out = pd.DataFrame(index=df.columns, columns=['Format', 'Units', 'Range', 'Description'])\n",
    "\n",
    "    df_out.loc['HVDC_LINK_ID'] = {'Format': 'str', 'Units': '-', 'Range': '-', 'Description': 'HVDC link ID'}\n",
    "    df_out.loc['FROM_NODE'] = {'Format': 'int', 'Units': '-', 'Range': get_numerical_range(df, 'FROM_NODE', no_round=True), 'Description': 'Node ID of origin node'}\n",
    "    df_out.loc['TO_NODE'] = {'Format': 'int', 'Units': '-', 'Range': get_numerical_range(df, 'TO_NODE', no_round=True), 'Description': 'Node ID of destination node'}\n",
    "    df_out.loc['FORWARD_LIMIT_MW'] = {'Format': 'float', 'Units': 'MW', 'Range': get_numerical_range(df, 'FORWARD_LIMIT_MW', no_round=True), 'Description': \"`From' node to `To' node power-flow limit\"}\n",
    "    df_out.loc['REVERSE_LIMIT_MW'] = {'Format': 'float', 'Units': 'MW', 'Range': get_numerical_range(df, 'REVERSE_LIMIT_MW', no_round=True), 'Description': \"`To' node to `From' node power-flow limit\"}\n",
    "    df_out.loc['VOLTAGE_KV'] = {'Format': 'float', 'Units': 'kV', 'Range': get_numerical_range(df, 'VOLTAGE_KV', no_round=True), 'Description': 'HVDC link voltage'}\n",
    "\n",
    "    # Output table after formatting\n",
    "    table_out = format_table(df_out, caption='Network HVDC links dataset summary', label='tab: hvdc links', filename='network_hvdc_links.tex', add_caption_and_label=True)\n",
    "    \n",
    "    return table_out\n",
    "create_hvdc_links_table()"
   ]
  },
  {
   "cell_type": "markdown",
   "metadata": {},
   "source": [
    "### AC interconnector links"
   ]
  },
  {
   "cell_type": "code",
   "execution_count": 7,
   "metadata": {},
   "outputs": [
    {
     "data": {
      "text/plain": [
       "\"\\\\begin{table}[H]\\n\\\\begin{tabular}{rlllll}\\n\\\\toprule\\n Col. &           Col. Name & Format & Units &      Range &                             Description \\\\\\\\\\n\\\\midrule\\n 1 &  INTERCONNECTOR\\\\_ID &  str &  - &  - &  AC interconnector ID \\\\\\\\\\n 2 &  FROM\\\\_NODE &  int &  - &  $40-806$ &  Node ID of origin node \\\\\\\\\\n 3 &  FROM\\\\_REGION &  str &  - &  - &  Region in which `From' node is located \\\\\\\\\\n 4 &  TO\\\\_NODE &  int &  - &  $5-807$ &  Node ID for destination node \\\\\\\\\\n 5 &  TO\\\\_REGION &  str &  - &  - &  Region in which `To' node is located \\\\\\\\\\n 6 &  VOLTAGE\\\\_KV &  float &  kV &  $110-330$ &  Line voltage \\\\\\\\\\n\\\\bottomrule\\n\\\\end{tabular}\\n\\\\caption{AC interconnector locations dataset summary}\\n\\\\label{tab: interconnectors - links}\\n\\\\end{table}\""
      ]
     },
     "execution_count": 7,
     "metadata": {},
     "output_type": "execute_result"
    }
   ],
   "source": [
    "def create_ac_interconnector_links_table():\n",
    "    \"Create table summarising AC interconnector connection point locations\"\n",
    "\n",
    "    # Input DataFrame\n",
    "    df = pd.read_csv(os.path.join(network_dir, 'output', 'network_ac_interconnector_links.csv'))\n",
    "\n",
    "    # Initialise output DataFrame\n",
    "    df_out = pd.DataFrame(index=df.columns, columns=['Format', 'Units', 'Range', 'Description'])\n",
    "\n",
    "    df_out.loc['INTERCONNECTOR_ID'] = {'Format': 'str', 'Units': '-', 'Range': '-', 'Description': 'AC interconnector ID'}\n",
    "    df_out.loc['FROM_NODE'] = {'Format': 'int', 'Units': '-', 'Range': get_numerical_range(df, 'FROM_NODE', no_round=True), 'Description': 'Node ID of origin node'}\n",
    "    df_out.loc['FROM_REGION'] = {'Format': 'str', 'Units': '-', 'Range': '-', 'Description': \"Region in which `From' node is located\"}\n",
    "    df_out.loc['TO_NODE'] = {'Format': 'int', 'Units': '-', 'Range': get_numerical_range(df, 'TO_NODE', no_round=True), 'Description': 'Node ID for destination node'}\n",
    "    df_out.loc['TO_REGION'] = {'Format': 'str', 'Units': '-', 'Range': '-', 'Description': \"Region in which `To' node is located\"}\n",
    "    df_out.loc['VOLTAGE_KV'] = {'Format': 'float', 'Units': 'kV', 'Range': get_numerical_range(df, 'VOLTAGE_KV', no_round=True), 'Description': 'Line voltage'}\n",
    "\n",
    "     # Output table after formatting\n",
    "    table_out = format_table(df_out, caption='AC interconnector locations dataset summary', label='tab: interconnectors - links', filename='network_ac_interconnector_links.tex', add_caption_and_label=True)\n",
    "\n",
    "    return table_out\n",
    "create_ac_interconnector_links_table()"
   ]
  },
  {
   "cell_type": "markdown",
   "metadata": {},
   "source": [
    "### Interconnector flow limits"
   ]
  },
  {
   "cell_type": "code",
   "execution_count": 8,
   "metadata": {},
   "outputs": [
    {
     "data": {
      "text/plain": [
       "\"\\\\begin{table}[H]\\n\\\\begin{tabular}{rlllll}\\n\\\\toprule\\n Col. &           Col. Name & Format & Units &       Range &                                Description \\\\\\\\\\n\\\\midrule\\n 1 &  INTERCONNECTOR\\\\_ID &  str &  - &  - &  AC interconnector ID \\\\\\\\\\n 2 &  FROM\\\\_REGION &  str &  - &  - &  Region in which `From' node is located \\\\\\\\\\n 3 &  TO\\\\_REGION &  str &  - &  - &  Region in which `To' node is located \\\\\\\\\\n 4 &  FORWARD\\\\_LIMIT\\\\_MW &  float &  MW &  $107-1600$ &  `From' node to `To' node power-flow limit \\\\\\\\\\n 5 &  REVERSE\\\\_LIMIT\\\\_MW &  float &  MW &  $210-1350$ &  `To' node to `From' node power-flow limit \\\\\\\\\\n\\\\bottomrule\\n\\\\end{tabular}\\n\\\\caption{AC interconnector flow limits summary}\\n\\\\label{tab: interconnectors - flow limits}\\n\\\\end{table}\""
      ]
     },
     "execution_count": 8,
     "metadata": {},
     "output_type": "execute_result"
    }
   ],
   "source": [
    "def create_ac_interconnector_flow_limits_table():\n",
    "    \"Create table summarising interconnector flow limits\"\n",
    "    \n",
    "    # Input DataFrame\n",
    "    df = pd.read_csv(os.path.join(network_dir, 'output', 'network_ac_interconnector_flow_limits.csv'))\n",
    "\n",
    "    # Initialise output DataFrame\n",
    "    df_out = pd.DataFrame(index=df.columns, columns=['Format', 'Units', 'Range', 'Description'])\n",
    "\n",
    "    df_out.loc['INTERCONNECTOR_ID'] = {'Format': 'str', 'Units': '-', 'Range': '-', 'Description': 'AC interconnector ID'}\n",
    "    df_out.loc['FROM_REGION'] = {'Format': 'str', 'Units': '-', 'Range': '-', 'Description': \"Region in which `From' node is located\"}\n",
    "    df_out.loc['TO_REGION'] = {'Format': 'str', 'Units': '-', 'Range': '-', 'Description': \"Region in which `To' node is located\"}\n",
    "    df_out.loc['FORWARD_LIMIT_MW'] = {'Format': 'float', 'Units': 'MW', 'Range': get_numerical_range(df, 'FORWARD_LIMIT_MW', no_round=True), 'Description': \"`From' node to `To' node power-flow limit\"}\n",
    "    df_out.loc['REVERSE_LIMIT_MW'] = {'Format': 'float', 'Units': 'MW', 'Range': get_numerical_range(df, 'REVERSE_LIMIT_MW', no_round=True), 'Description': \"`To' node to `From' node power-flow limit\"}\n",
    "\n",
    "    # Output table after formatting\n",
    "    table_out = format_table(df_out, caption='AC interconnector flow limits summary', label='tab: interconnectors - flow limits', filename='network_ac_interconnector_flow_limits.tex', add_caption_and_label=True)\n",
    "\n",
    "    return table_out\n",
    "create_ac_interconnector_flow_limits_table()"
   ]
  },
  {
   "cell_type": "markdown",
   "metadata": {},
   "source": [
    "## Generators"
   ]
  },
  {
   "cell_type": "code",
   "execution_count": 9,
   "metadata": {},
   "outputs": [
    {
     "data": {
      "text/plain": [
       "\"\\\\begin{table}[H]\\n\\\\begin{threeparttable}\\n\\\\centering\\n\\\\small\\\\begin{tabular}{rllllll}\\n\\\\toprule\\n Col. &                     Col. Name & Format &          Units &        Range &                                                        Description &                 Source\\\\tnote{$\\\\dagger$} \\\\\\\\\\n\\\\midrule\\n 1 &  DUID &  str &  - &  - &  Unique ID for each unit &  \\\\cite{aemo_data_2018} \\\\\\\\\\n 2 &  STATIONID &  str &  - &  - &  ID of station to which DUID belongs &  \\\\cite{aemo_data_2018} \\\\\\\\\\n 3 &  STATIONNAME &  str &  - &  - &  Name of station to which DUID belongs &  \\\\cite{aemo_data_2018} \\\\\\\\\\n 4 &  NEM\\\\_REGION &  str &  - &  - &  Region in which DUID is located &   \\\\\\\\\\n 5 &  NEM\\\\_ZONE &  str &  - &  - &  Zone in which DUID is located &   \\\\\\\\\\n 6 &  NODE &  int &  - &  $9-940$ &  Node to which DUID is assigned &   \\\\\\\\\\n 7 &  FUEL\\\\_TYPE &  str &  - &  - &  Primary fuel type &  \\\\cite{aemo_data_2018} \\\\\\\\\\n 8 &  FUEL\\\\_CAT &  str &  - &  - &  Primary fuel category &   \\\\\\\\\\n 9 &  EMISSIONS &  float &  tCO$_{2}$/MWh &  $0.0-1.56$ &  Equivalent CO$_{2}$ emissions intensity &  \\\\cite{aemo_current_2018} \\\\\\\\\\n 10 &  SCHEDULE\\\\_TYPE &  str &  - &  - &  Schedule type for unit &  \\\\cite{aemo_data_2018} \\\\\\\\\\n 11 &  REG\\\\_CAP &  float &  MW &  $21-1500$ &  Registered capacity &  \\\\cite{aemo_data_2018} \\\\\\\\\\n 12 &  MIN\\\\_GEN &  float &  MW &  $0.0-347.2$ &  Minimum dispatchable output &  \\\\cite{aemo_data_2018, aemo_ntndp_2018} \\\\\\\\\\n 13 &  RR\\\\_STARTUP &  float &  MW/h &  $60-12000$ &  Ramp-rate for start-up &  \\\\cite{aemo_ntndp_2018} \\\\\\\\\\n 14 &  RR\\\\_SHUTDOWN &  float &  MW/h &  $40-9740$ &  Ramp-rate for shut-down &  \\\\cite{aemo_ntndp_2018} \\\\\\\\\\n 15 &  RR\\\\_UP &  float &  MW/h &  $60-12000$ &  Ramp-rate up when running &  \\\\cite{aemo_ntndp_2018} \\\\\\\\\\n 16 &  RR\\\\_DOWN &  float &  MW/h &  $60-10080$ &  Ramp-rate down when running &  \\\\cite{aemo_ntndp_2018} \\\\\\\\\\n 17 &  MIN\\\\_ON\\\\_TIME &  int &  h &  $0-16$ &  Minimum on time &  \\\\cite{aemo_ntndp_2018} \\\\\\\\\\n 18 &  MIN\\\\_OFF\\\\_TIME &  int &  h &  $0-16$ &  Minimum off time &  \\\\cite{aemo_ntndp_2018} \\\\\\\\\\n 19 &  SU\\\\_COST\\\\_COLD &  int &  \\\\$ &  $0-260400$ &  Cold start start-up cost &  \\\\cite{aemo_ntndp_2018} \\\\\\\\\\n 20 &  SU\\\\_COST\\\\_WARM &  int &  \\\\$ &  $0-89280$ &  Warm start start-up cost &  \\\\cite{aemo_ntndp_2018} \\\\\\\\\\n 21 &  SU\\\\_COST\\\\_HOT &  int &  \\\\$ &  $0-29760$ &  Hot start start-up cost &  \\\\cite{aemo_ntndp_2018} \\\\\\\\\\n 22 &  VOM &  float &  \\\\$/MWh &  $0.0-12.5$ &  Variable operations and maintenance costs &  \\\\cite{aemo_ntndp_2018} \\\\\\\\\\n 23 &  HEAT\\\\_RATE\\\\tnote{$\\\\ddagger$} &  float &  GJ/MWh &  $0.0-15.7$ &  Heat rate &  \\\\cite{aemo_ntndp_2018} \\\\\\\\\\n 24 &  NL\\\\_FUEL\\\\_CONS &  float &  - &  $0.0-0.3$ &  No-load fuel consumption as a proportion of full load consumption &  \\\\cite{aemo_ntndp_2018} \\\\\\\\\\n 25 &  FC\\\\_2016-17 &  float &  \\\\$/GJ &  $0.0-8.6$ &  Fuel cost for the year 2016-17 &  \\\\cite{aemo_ntndp_2018} \\\\\\\\\\n 26 &  SRMC\\\\_2016-17 &  float &  \\\\$/MWh &  $0.0-129.7$ &  Short-run marginal cost for the year 2016-17 &   \\\\\\\\\\n\\\\bottomrule\\n\\\\end{tabular}\\n\\\\begin{tablenotes}\\n    \\\\item[$\\\\dagger$] Where no source is given, the value has been derived as part of the dataset construction procedure. NEM\\\\_REGION and NEM\\\\_ZONE were found by determining the region and zone of each generator's assigned node. FUEL\\\\_CAT assigns a generic category to FUEL\\\\_TYPE. MIN\\\\_GEN was computed by combining minimum output as a proportion of nameplate capacity from~\\\\cite{aemo_ntndp_2018} with registered capacities from~\\\\cite{aemo_data_2018}. SRMC\\\\_2016-17 is calculated from VOM, HEAT\\\\_RATE, and FC\\\\_2016-17 fields, using equation~(\\\\ref{eqn: SRMC calculation}).\\n    \\\\item[$\\\\ddagger$] While not explicitly stated, it is assumed that a lower heating value is referred to. This is consistent with another field in~\\\\cite{aemo_ntndp_2018} that gives DUID thermal efficiency in terms of lower heating values. \\n    \\\\end{tablenotes}\\n    \\\\end{threeparttable}\\n    \\\\caption{Generator dataset summary}\\n    \\\\label{tab: generator dataset}\\n    \\\\end{table}\""
      ]
     },
     "execution_count": 9,
     "metadata": {},
     "output_type": "execute_result"
    }
   ],
   "source": [
    "def create_generators_tables():\n",
    "    \"Create table summarising fields in generator datasets\"\n",
    "    \n",
    "    # Input DataFrame\n",
    "    column_dtypes = {'NODE': int, 'REG_CAP': int, 'RR_STARTUP': int, 'RR_SHUTDOWN': int, 'RR_UP': int, \n",
    "                     'RR_DOWN': int, 'MIN_ON_TIME': int, 'MIN_OFF_TIME': int, 'SU_COST_COLD': int, 'SU_COST_WARM': int, \n",
    "                     'SU_COST_HOT': int}\n",
    "\n",
    "    df = pd.read_csv(os.path.join(generators_dir, 'output', 'generators.csv'), dtype=column_dtypes)\n",
    "\n",
    "    # Initialise output DataFrame\n",
    "    df_out = pd.DataFrame(index=df.columns, columns=['Format', 'Units', 'Range', 'Description'])\n",
    "\n",
    "    df_out.loc['DUID'] = {'Format': 'str', 'Units': '-', 'Range': '-', 'Description': 'Unique ID for each unit'}\n",
    "    df_out.loc['STATIONID'] = {'Format': 'str', 'Units': '-', 'Range': '-', 'Description': 'ID of station to which DUID belongs'}\n",
    "    df_out.loc['STATIONNAME'] = {'Format': 'str', 'Units': '-', 'Range': '-', 'Description': 'Name of station to which DUID belongs'}\n",
    "    df_out.loc['NEM_REGION'] = {'Format': 'str', 'Units': '-', 'Range': '-', 'Description': 'Region in which DUID is located'}\n",
    "    df_out.loc['NEM_ZONE'] = {'Format': 'str', 'Units': '-', 'Range': '-', 'Description': 'Zone in which DUID is located'}\n",
    "    df_out.loc['NODE'] = {'Format': 'int', 'Units': '-', 'Range': get_numerical_range(df, 'NODE', no_round=True), 'Description': 'Node to which DUID is assigned'}\n",
    "    df_out.loc['FUEL_TYPE'] = {'Format': 'str', 'Units': '-', 'Range': '-', 'Description': 'Primary fuel type'}\n",
    "    df_out.loc['FUEL_CAT'] = {'Format': 'str', 'Units': '-', 'Range': '-', 'Description': 'Primary fuel category'}\n",
    "    df_out.loc['EMISSIONS'] = {'Format': 'float', 'Units': 'tCO$_{2}$/MWh', 'Range': get_numerical_range(df, 'EMISSIONS', round_lower=2, round_upper=2), 'Description': 'Equivalent CO$_{2}$ emissions intensity'}\n",
    "    df_out.loc['SCHEDULE_TYPE'] = {'Format': 'str', 'Units': '-', 'Range': '-', 'Description': 'Schedule type for unit'}\n",
    "    df_out.loc['REG_CAP'] = {'Format': 'float', 'Units': 'MW', 'Range': get_numerical_range(df, 'REG_CAP', no_round=True), 'Description': 'Registered capacity'}\n",
    "    df_out.loc['MIN_GEN'] = {'Format': 'float', 'Units': 'MW', 'Range': get_numerical_range(df, 'MIN_GEN', no_round=True), 'Description': 'Minimum dispatchable output'}\n",
    "    df_out.loc['RR_STARTUP'] = {'Format': 'float', 'Units': 'MW/h', 'Range': get_numerical_range(df, 'RR_STARTUP', no_round=True), 'Description': 'Ramp-rate for start-up'}\n",
    "    df_out.loc['RR_SHUTDOWN'] = {'Format': 'float', 'Units': 'MW/h', 'Range': get_numerical_range(df, 'RR_SHUTDOWN', no_round=True), 'Description': 'Ramp-rate for shut-down'}\n",
    "    df_out.loc['RR_UP'] = {'Format': 'float', 'Units': 'MW/h', 'Range': get_numerical_range(df, 'RR_UP', no_round=True), 'Description': 'Ramp-rate up when running'}\n",
    "    df_out.loc['RR_DOWN'] = {'Format': 'float', 'Units': 'MW/h', 'Range': get_numerical_range(df, 'RR_DOWN', no_round=True), 'Description': 'Ramp-rate down when running'}\n",
    "    df_out.loc['MIN_ON_TIME'] = {'Format': 'int', 'Units': 'h', 'Range': get_numerical_range(df, 'MIN_ON_TIME', no_round=True), 'Description': 'Minimum on time'}\n",
    "    df_out.loc['MIN_OFF_TIME'] = {'Format': 'int', 'Units': 'h', 'Range': get_numerical_range(df, 'MIN_OFF_TIME', no_round=True), 'Description': 'Minimum off time'}\n",
    "    df_out.loc['SU_COST_COLD'] = {'Format': 'int', 'Units': '\\$', 'Range': get_numerical_range(df, 'SU_COST_COLD', no_round=True), 'Description': 'Cold start start-up cost'}\n",
    "    df_out.loc['SU_COST_WARM'] = {'Format': 'int', 'Units': '\\$', 'Range': get_numerical_range(df, 'SU_COST_WARM', no_round=True), 'Description': 'Warm start start-up cost'}\n",
    "    df_out.loc['SU_COST_HOT'] = {'Format': 'int', 'Units': '\\$', 'Range': get_numerical_range(df, 'SU_COST_HOT', no_round=True), 'Description': 'Hot start start-up cost'}\n",
    "    df_out.loc['VOM'] = {'Format': 'float', 'Units': '\\$/MWh', 'Range': get_numerical_range(df, 'VOM', no_round=True), 'Description': 'Variable operations and maintenance costs'}\n",
    "    df_out.loc['HEAT_RATE'] = {'Format': 'float', 'Units': 'GJ/MWh', 'Range': get_numerical_range(df, 'HEAT_RATE', round_lower=1, round_upper=1), 'Description': 'Heat rate'}\n",
    "    df_out.loc['NL_FUEL_CONS'] = {'Format': 'float', 'Units': '-', 'Range': get_numerical_range(df, 'NL_FUEL_CONS', no_round=True), 'Description': 'No-load fuel consumption as a proportion of full load consumption'}\n",
    "    df_out.loc['FC_2016-17'] = {'Format': 'float', 'Units': '\\$/GJ', 'Range': get_numerical_range(df, 'FC_2016-17', round_lower=1, round_upper=1), 'Description': 'Fuel cost for the year 2016-17'}\n",
    "    df_out.loc['SRMC_2016-17'] = {'Format': 'float', 'Units': '\\$/MWh', 'Range': get_numerical_range(df, 'SRMC_2016-17', round_lower=1, round_upper=1), 'Description': 'Short-run marginal cost for the year 2016-17'}\n",
    "\n",
    "\n",
    "    # Sources for generator dataset records\n",
    "    source = dict()\n",
    "    source['DUID'] = '\\cite{aemo_data_2018}'\n",
    "    source['STATIONID'] = '\\cite{aemo_data_2018}'\n",
    "    source['STATIONNAME'] = '\\cite{aemo_data_2018}'\n",
    "    source['FUEL_TYPE'] = '\\cite{aemo_data_2018}'\n",
    "    source['EMISSIONS'] = '\\cite{aemo_current_2018}'\n",
    "    source['SCHEDULE_TYPE'] = '\\cite{aemo_data_2018}'\n",
    "    source['REG_CAP'] = '\\cite{aemo_data_2018}'\n",
    "    source['MIN_GEN'] = '\\cite{aemo_data_2018, aemo_ntndp_2018}'\n",
    "    source['RR_STARTUP'] = '\\cite{aemo_ntndp_2018}'\n",
    "    source['RR_SHUTDOWN'] = '\\cite{aemo_ntndp_2018}'\n",
    "    source['RR_UP'] = '\\cite{aemo_ntndp_2018}'\n",
    "    source['RR_DOWN'] = '\\cite{aemo_ntndp_2018}'\n",
    "    source['MIN_ON_TIME'] = '\\cite{aemo_ntndp_2018}'\n",
    "    source['MIN_OFF_TIME'] = '\\cite{aemo_ntndp_2018}'\n",
    "    source['SU_COST_COLD'] = '\\cite{aemo_ntndp_2018}'\n",
    "    source['SU_COST_WARM'] = '\\cite{aemo_ntndp_2018}'\n",
    "    source['SU_COST_HOT'] = '\\cite{aemo_ntndp_2018}'\n",
    "    source['VOM'] = '\\cite{aemo_ntndp_2018}'\n",
    "    source['HEAT_RATE'] = '\\cite{aemo_ntndp_2018}'\n",
    "    source['NL_FUEL_CONS'] = '\\cite{aemo_ntndp_2018}'\n",
    "    source['FC_2016-17'] = '\\cite{aemo_ntndp_2018}'\n",
    "\n",
    "    df_out['Source\\tnote{$\\dagger$}'] = df_out.apply(lambda x: '' if x.name not in source.keys() else source[x.name], axis=1)\n",
    "    \n",
    "    # Include double dagger symbol for heatrate record\n",
    "    df_out = df_out.rename(index={'HEAT_RATE': 'HEAT_RATE\\tnote{$\\ddagger$}'})\n",
    "\n",
    "    table_out = format_table(df_out, caption='Generator dataset summary', label='tab: generator dataset', filename='generators.tex')\n",
    "    \n",
    "    # Wrap in three part table. Append environments to beginning of tabular\n",
    "    table_out = '\\\\begin{table}[H]\\n\\\\begin{threeparttable}\\n\\\\centering\\n\\\\small' + table_out\n",
    "    \n",
    "    # Append table notes and environment to end of table\n",
    "    append_to_end = \"\"\"\\\\begin{tablenotes}\n",
    "    \\\\item[$\\\\dagger$] Where no source is given, the value has been derived as part of the dataset construction procedure. NEM\\\\_REGION and NEM\\\\_ZONE were found by determining the region and zone of each generator's assigned node. FUEL\\\\_CAT assigns a generic category to FUEL\\\\_TYPE. MIN\\\\_GEN was computed by combining minimum output as a proportion of nameplate capacity from~\\cite{aemo_ntndp_2018} with registered capacities from~\\\\cite{aemo_data_2018}. SRMC\\\\_2016-17 is calculated from VOM, HEAT\\\\_RATE, and FC\\\\_2016-17 fields, using equation~(\\\\ref{eqn: SRMC calculation}).\n",
    "    \\\\item[$\\\\ddagger$] While not explicitly stated, it is assumed that a lower heating value is referred to. This is consistent with another field in~\\\\cite{aemo_ntndp_2018} that gives DUID thermal efficiency in terms of lower heating values. \n",
    "    \\\\end{tablenotes}\n",
    "    \\\\end{threeparttable}\n",
    "    \\\\caption{Generator dataset summary}\n",
    "    \\\\label{tab: generator dataset}\n",
    "    \\\\end{table}\"\"\"\n",
    "    \n",
    "    table_out = table_out + append_to_end    \n",
    "    \n",
    "    # Save to file\n",
    "    with open(os.path.join(output_dir, 'generators.tex'), 'w') as f:\n",
    "        f.write(table_out)\n",
    "    \n",
    "    return table_out\n",
    "create_generators_tables()"
   ]
  },
  {
   "cell_type": "markdown",
   "metadata": {},
   "source": [
    "## Load and dispatch signals\n",
    "### Load signals"
   ]
  },
  {
   "cell_type": "code",
   "execution_count": 10,
   "metadata": {},
   "outputs": [
    {
     "data": {
      "text/plain": [
       "'\\\\begin{table}[H]\\n\\\\begin{tabular}{rlllll}\\n\\\\toprule\\n Col. &       Col. Name &     Format & Units &                                          Range &                    Description \\\\\\\\\\n\\\\midrule\\n 1 &  SETTLEMENTDATE &  timestamp &  - &  1/6/2017  12:30:00 AM - 1/7/2017  12:00:00 AM &  Trading interval \\\\\\\\\\n 2 &  NSW1 &  float &  MW &  $6298.7-11652.8$ &  New South Wales demand signal \\\\\\\\\\n 3 &  QLD1 &  float &  MW &  $4864.0-7728.7$ &  Queensland demand signal \\\\\\\\\\n 4 &  SA1 &  float &  MW &  $1002.9-2287.1$ &  South Australia demand signal \\\\\\\\\\n 5 &  TAS1 &  float &  MW &  $921.0-1708.6$ &  Tasmania demand signal \\\\\\\\\\n 6 &  VIC1 &  float &  MW &  $3795.8-7357.3$ &  Victoria demand signal \\\\\\\\\\n\\\\bottomrule\\n\\\\end{tabular}\\n\\\\caption{Regional demand signals dataset summary}\\n\\\\label{tab: regional demand signals}\\n\\\\end{table}'"
      ]
     },
     "execution_count": 10,
     "metadata": {},
     "output_type": "execute_result"
    }
   ],
   "source": [
    "def create_load_signals_table():\n",
    "    df = pd.read_csv(os.path.join(signals_dir, 'output', 'signals_regional_load.csv'))\n",
    "\n",
    "    # Initialise output DataFrame\n",
    "    df_out = pd.DataFrame(index=df.columns, columns=['Format', 'Units', 'Range', 'Description'])\n",
    "\n",
    "    df_out.loc['SETTLEMENTDATE'] = {'Format': 'timestamp', 'Units': '-', 'Range': '1/6/2017  12:30:00 AM - 1/7/2017  12:00:00 AM', 'Description': 'Trading interval'}\n",
    "    df_out.loc['NSW1'] = {'Format': 'float', 'Units': 'MW', 'Range': get_numerical_range(df, 'NSW1', round_lower=1, round_upper=1), 'Description': 'New South Wales demand signal'}\n",
    "    df_out.loc['QLD1'] = {'Format': 'float', 'Units': 'MW', 'Range': get_numerical_range(df, 'QLD1', round_lower=1, round_upper=1), 'Description': 'Queensland demand signal'}\n",
    "    df_out.loc['SA1'] = {'Format': 'float', 'Units': 'MW', 'Range': get_numerical_range(df, 'SA1', round_lower=1, round_upper=1), 'Description': 'South Australia demand signal'}\n",
    "    df_out.loc['TAS1'] = {'Format': 'float', 'Units': 'MW', 'Range': get_numerical_range(df, 'TAS1', round_lower=1, round_upper=1), 'Description': 'Tasmania demand signal'}\n",
    "    df_out.loc['VIC1'] = {'Format': 'float', 'Units': 'MW', 'Range': get_numerical_range(df, 'VIC1', round_lower=1, round_upper=1), 'Description': 'Victoria demand signal'}\n",
    "\n",
    "    table_out = format_table(df_out, caption='Regional demand signals dataset summary', label='tab: regional demand signals', filename='signals_regional_demand.tex', add_caption_and_label=True)\n",
    "\n",
    "    return table_out\n",
    "create_load_signals_table()"
   ]
  },
  {
   "cell_type": "markdown",
   "metadata": {},
   "source": [
    "### Dispatch signals"
   ]
  },
  {
   "cell_type": "code",
   "execution_count": 11,
   "metadata": {},
   "outputs": [],
   "source": [
    "df = pd.read_csv(os.path.join(signals_dir, 'output', 'signals_dispatch.csv'))\n",
    "\n",
    "df_out = pd.DataFrame(columns=['Format', 'Units', 'Range', 'Description'])\n",
    "df_out.loc['SETTLEMENTDATE'] = {'Format': 'timestamp', 'Units': '-', 'Range': '1/6/2017  12:30:00 AM - 1/7/2017  12:00:00 AM', 'Description': 'Trading interval'}\n",
    "df_out.loc['(DUID)'] = {'Format': 'float', 'Units': 'MW', 'Range': '-', 'Description': 'DUID dispatch profile'}\n",
    "\n",
    "# Rename columns\n",
    "df_out = df_out.reset_index().rename(columns={'index': 'Col. Name'})\n",
    "df_out.index.name = 'Col.'\n",
    "df_out = df_out.rename(index={0: '1', 1: '2-{0}'.format(len(df.columns))})\n",
    "df_out = df_out.reset_index()\n",
    "\n",
    "# Raw table\n",
    "table = df_out.to_latex(escape=False, index=False, multicolumn=False)\n",
    "\n",
    "table_out = add_caption(table, caption='DUID dispatch profiles. Columns correspond to DUIDs.', label='tab: duid dispatch profiles')\n",
    "table_out = wrap_in_table(table_out)\n",
    "\n",
    "# Save to file\n",
    "with open(os.path.join(output_dir, 'signals_dispatch.tex'), 'w') as f:\n",
    "    f.write(table_out)"
   ]
  }
 ],
 "metadata": {
  "kernelspec": {
   "display_name": "Python (nem-env)",
   "language": "python",
   "name": "nem-env"
  },
  "language_info": {
   "codemirror_mode": {
    "name": "ipython",
    "version": 3
   },
   "file_extension": ".py",
   "mimetype": "text/x-python",
   "name": "python",
   "nbconvert_exporter": "python",
   "pygments_lexer": "ipython3",
   "version": "3.6.2"
  }
 },
 "nbformat": 4,
 "nbformat_minor": 2
}
